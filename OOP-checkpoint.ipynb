{
 "cells": [
  {
   "cell_type": "markdown",
   "metadata": {},
   "source": [
    "## OOP"
   ]
  },
  {
   "cell_type": "code",
   "execution_count": 20,
   "metadata": {},
   "outputs": [
    {
     "name": "stdout",
     "output_type": "stream",
     "text": [
      "wangbin\n"
     ]
    }
   ],
   "source": [
    "class A():\n",
    "    name = \"wangbin\"\n",
    "    age = 12\n",
    "    \n",
    "A.__dict__\n",
    "\n",
    "a = A()\n",
    "a.__dict__\n",
    "print(a.name)"
   ]
  },
  {
   "cell_type": "code",
   "execution_count": 25,
   "metadata": {},
   "outputs": [
    {
     "name": "stdout",
     "output_type": "stream",
     "text": [
      "dongge\n",
      "18\n",
      "2010722163768\n",
      "140711263465760\n",
      "dongge\n",
      "18\n",
      "2010722163768\n",
      "140711263465760\n"
     ]
    }
   ],
   "source": [
    "class D():\n",
    "    name = \"dongge\"\n",
    "    age = 18\n",
    "    \n",
    "    def say(self):\n",
    "        self.name = \"dd\"\n",
    "        self.age = 20\n",
    "        \n",
    "print(D.name)\n",
    "print(D.age)\n",
    "print(id(D.name))\n",
    "print(id(D.age))\n",
    "a = D()\n",
    "\n",
    "print(a.name)\n",
    "print(a.age)\n",
    "print(id(a.name))\n",
    "print(id(a.age))"
   ]
  },
  {
   "cell_type": "code",
   "execution_count": 32,
   "metadata": {},
   "outputs": [
    {
     "name": "stdout",
     "output_type": "stream",
     "text": [
      "wang --- 12\n"
     ]
    }
   ],
   "source": [
    "class asd():\n",
    "    name = \"wang\"\n",
    "    age = 12\n",
    "    \n",
    "    def fun(self):\n",
    "        name = \"jin\"\n",
    "        age = 14\n",
    "        print(__class__.name,\"---\",__class__.age)\n",
    "A = asd() \n",
    "A.fun()"
   ]
  },
  {
   "cell_type": "code",
   "execution_count": 37,
   "metadata": {},
   "outputs": [
    {
     "name": "stdout",
     "output_type": "stream",
     "text": [
      "wangbin\n",
      "21\n",
      "wangbin\n",
      "21\n",
      "jindongge\n",
      "20\n",
      "qwe\n",
      "123\n"
     ]
    }
   ],
   "source": [
    "class A():\n",
    "    name = \"jindongge\"\n",
    "    age = 20\n",
    "    def __init__(self):\n",
    "        self.name = \"wangbin\"\n",
    "        self.age = 21\n",
    "        \n",
    "    def say(self):\n",
    "        print(self.name)\n",
    "        print(self.age)\n",
    "\n",
    "       \n",
    "class B():\n",
    "    name = \"qwe\"\n",
    "    age = 123\n",
    "a = A()\n",
    "a.say()\n",
    "A.say(a)\n",
    "A.say(A)\n",
    "\n",
    "A.say(B)"
   ]
  },
  {
   "cell_type": "code",
   "execution_count": null,
   "metadata": {},
   "outputs": [],
   "source": []
  },
  {
   "cell_type": "code",
   "execution_count": null,
   "metadata": {},
   "outputs": [],
   "source": []
  }
 ],
 "metadata": {
  "kernelspec": {
   "display_name": "Python 3",
   "language": "python",
   "name": "python3"
  },
  "language_info": {
   "codemirror_mode": {
    "name": "ipython",
    "version": 3
   },
   "file_extension": ".py",
   "mimetype": "text/x-python",
   "name": "python",
   "nbconvert_exporter": "python",
   "pygments_lexer": "ipython3",
   "version": "3.7.0"
  }
 },
 "nbformat": 4,
 "nbformat_minor": 2
}
